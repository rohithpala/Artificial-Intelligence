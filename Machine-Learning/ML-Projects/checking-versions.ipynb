{
 "cells": [
  {
   "cell_type": "code",
   "execution_count": 1,
   "metadata": {},
   "outputs": [
    {
     "name": "stdout",
     "output_type": "stream",
     "text": [
      "Python: 3.8.5 (default, Sep  3 2020, 21:29:08) [MSC v.1916 64 bit (AMD64)]\n",
      "Scipy: 1.5.2\n",
      "Numpy: 1.19.2\n",
      "Matplotlib: 3.3.2\n",
      "Pandas: 1.1.3\n",
      "Sklearn: 0.23.2\n"
     ]
    }
   ],
   "source": [
    "# checking the important libraries versions\n",
    "import sys\n",
    "print(\"Python: {}\".format(sys.version))\n",
    "import scipy\n",
    "print(\"Scipy: {}\".format(scipy.__version__))\n",
    "import numpy\n",
    "print(\"Numpy: {}\".format(numpy.__version__))\n",
    "import matplotlib\n",
    "print(\"Matplotlib: {}\".format(matplotlib.__version__))\n",
    "import pandas\n",
    "print(\"Pandas: {}\".format(pandas.__version__))\n",
    "import sklearn\n",
    "print(\"Sklearn: {}\".format(sklearn.__version__))"
   ]
  }
 ],
 "metadata": {
  "kernelspec": {
   "display_name": "Python 3",
   "language": "python",
   "name": "python3"
  },
  "language_info": {
   "codemirror_mode": {
    "name": "ipython",
    "version": 3
   },
   "file_extension": ".py",
   "mimetype": "text/x-python",
   "name": "python",
   "nbconvert_exporter": "python",
   "pygments_lexer": "ipython3",
   "version": "3.8.5"
  }
 },
 "nbformat": 4,
 "nbformat_minor": 4
}
