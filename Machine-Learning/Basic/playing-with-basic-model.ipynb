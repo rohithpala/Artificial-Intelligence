{
 "cells": [
  {
   "cell_type": "code",
   "execution_count": null,
   "id": "3500597c",
   "metadata": {},
   "outputs": [
    {
     "ename": "",
     "evalue": "",
     "output_type": "error",
     "traceback": [
      "\u001b[1;31mRunning cells with 'Python 3.10.2 64-bit' requires ipykernel package.\n",
      "Run the following command to install 'ipykernel' into the Python environment. \n",
      "Command: 'C:/Users/rohit/AppData/Local/Programs/Python/Python310/python.exe -m pip install ipykernel -U --user --force-reinstall'"
     ]
    }
   ],
   "source": [
    "# imports\n",
    "import pandas as pd\n",
    "from sklearn.tree import DecisionTreeClassifier\n",
    "from sklearn.model_selection import train_test_split\n",
    "from sklearn.metrics import accuracy_score"
   ]
  },
  {
   "cell_type": "code",
   "execution_count": null,
   "id": "0f34bac8",
   "metadata": {},
   "outputs": [],
   "source": [
    "# reading the csv file and splitting the data into inputs / instances / features and outputs / labels\n",
    "music = pd.read_csv(\"music.csv\")\n",
    "x = music.iloc[:, :-1] # to represent inputs, we generally use x\n",
    "y = music.iloc[:, -1] # to represent outputs/predictions, we generally use y"
   ]
  },
  {
   "cell_type": "code",
   "execution_count": null,
   "id": "29071fe2",
   "metadata": {},
   "outputs": [
    {
     "name": "stdout",
     "output_type": "stream",
     "text": [
      "100.0% Accurate\n"
     ]
    }
   ],
   "source": [
    "# splitting the data into train and test data\n",
    "x_train, x_test, y_train, y_test = train_test_split(x, y, test_size=0.2)\n",
    "\n",
    "# creating the instance of DecisionTreeClassifier\n",
    "model = DecisionTreeClassifier()\n",
    "\n",
    "# training the model with our available data\n",
    "model.fit(x_train, y_train)\n",
    "\n",
    "# predicting genere people like using the predict function\n",
    "predictions = model.predict(x_test)\n",
    "\n",
    "# calculating the accuracy of the predictions\n",
    "score = accuracy_score(y_test, predictions)\n",
    "# the score varies as the training and test data are splitted randomly\n",
    "print(str(score*100) + \"% Accurate\")"
   ]
  }
 ],
 "metadata": {
  "kernelspec": {
   "display_name": "Python 3 (ipykernel)",
   "language": "python",
   "name": "python3"
  },
  "language_info": {
   "codemirror_mode": {
    "name": "ipython",
    "version": 3
   },
   "file_extension": ".py",
   "mimetype": "text/x-python",
   "name": "python",
   "nbconvert_exporter": "python",
   "pygments_lexer": "ipython3",
   "version": "3.10.2"
  }
 },
 "nbformat": 4,
 "nbformat_minor": 5
}
