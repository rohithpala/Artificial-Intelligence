{
 "cells": [
  {
   "cell_type": "code",
   "execution_count": 1,
   "id": "05febb9d",
   "metadata": {},
   "outputs": [],
   "source": [
    "import csv"
   ]
  },
  {
   "cell_type": "code",
   "execution_count": 2,
   "id": "0dfa8412",
   "metadata": {},
   "outputs": [],
   "source": [
    "# Initialising the instances and target values lists from the csv file\n",
    "instances = []\n",
    "target_values = []\n",
    "with open(\"enjoysport.csv\", newline=\"\") as file:\n",
    "    for row in csv.reader(file):\n",
    "        instances.append(row[:-1])\n",
    "        target_values.append(row[-1])\n",
    "instances = instances[1:]\n",
    "target_values = target_values[1:]"
   ]
  },
  {
   "cell_type": "code",
   "execution_count": 3,
   "id": "06dd0325",
   "metadata": {
    "scrolled": true
   },
   "outputs": [
    {
     "data": {
      "text/plain": [
       "6"
      ]
     },
     "execution_count": 3,
     "metadata": {},
     "output_type": "execute_result"
    }
   ],
   "source": [
    "# Number of Instances\n",
    "noOfInstances = len(instances)\n",
    "\n",
    "# Number of Attributes in each Instance\n",
    "noOfAttributes = len(instances[0])\n",
    "noOfAttributes"
   ]
  },
  {
   "cell_type": "code",
   "execution_count": 4,
   "id": "377edb75",
   "metadata": {
    "scrolled": true
   },
   "outputs": [
    {
     "name": "stdout",
     "output_type": "stream",
     "text": [
      "['sunny', 'warm', 'normal', 'strong', 'warm', 'same'] : yes\n",
      "['sunny', 'warm', 'high', 'strong', 'warm', 'same'] : yes\n",
      "['rainy', 'cold', 'high', 'strong', 'warm', 'change'] : no\n",
      "['sunny', 'warm', 'high', 'strong', 'cool', 'change'] : yes\n"
     ]
    }
   ],
   "source": [
    "# printing the instances and their corresponding target value\n",
    "for i in range(noOfInstances):\n",
    "    print(instances[i], \":\", target_values[i])"
   ]
  },
  {
   "cell_type": "code",
   "execution_count": 5,
   "id": "a20eec4d",
   "metadata": {},
   "outputs": [
    {
     "name": "stdout",
     "output_type": "stream",
     "text": [
      "['', '', '', '', '', '']\n",
      "['sunny', 'warm', 'normal', 'strong', 'warm', 'same']\n",
      "['sunny', 'warm', '?', 'strong', 'warm', 'same']\n",
      "['sunny', 'warm', '?', 'strong', '?', '?']\n",
      "Hypothesis found by FindS: ['sunny', 'warm', '?', 'strong', '?', '?']\n"
     ]
    }
   ],
   "source": [
    "# initializing hypothesis with most specific hypothesis\n",
    "hypothesis = [\"\"] * noOfAttributes\n",
    "print(hypothesis)\n",
    "\n",
    "for i in range(noOfInstances):\n",
    "    if target_values[i] == \"yes\":\n",
    "        for j in range(noOfAttributes):\n",
    "            instance = instances[i][j]\n",
    "            if hypothesis[j] == \"?\": # if ? then do nothing\n",
    "                continue\n",
    "            elif hypothesis[j] == \"\": # if its a \"\" then replace it with attribute value to make it more general\n",
    "                hypothesis[j] = instance\n",
    "            elif hypothesis[j] != instance: # if its not equal with instance value then replace it with ? to make it more general\n",
    "                hypothesis[j] = \"?\"\n",
    "        print(hypothesis) # print hypothesis immediately after every instance is considered\n",
    "print(\"Hypothesis found by FindS:\", hypothesis)"
   ]
  }
 ],
 "metadata": {
  "kernelspec": {
   "display_name": "Python 3 (ipykernel)",
   "language": "python",
   "name": "python3"
  },
  "language_info": {
   "codemirror_mode": {
    "name": "ipython",
    "version": 3
   },
   "file_extension": ".py",
   "mimetype": "text/x-python",
   "name": "python",
   "nbconvert_exporter": "python",
   "pygments_lexer": "ipython3",
   "version": "3.10.2"
  }
 },
 "nbformat": 4,
 "nbformat_minor": 5
}
