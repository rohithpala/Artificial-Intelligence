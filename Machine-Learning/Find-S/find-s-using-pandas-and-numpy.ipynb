{
 "cells": [
  {
   "cell_type": "code",
   "execution_count": 1,
   "id": "0fae91d9",
   "metadata": {},
   "outputs": [],
   "source": [
    "import pandas as pd"
   ]
  },
  {
   "cell_type": "code",
   "execution_count": 2,
   "id": "ee260360",
   "metadata": {},
   "outputs": [
    {
     "data": {
      "text/html": [
       "<div>\n",
       "<style scoped>\n",
       "    .dataframe tbody tr th:only-of-type {\n",
       "        vertical-align: middle;\n",
       "    }\n",
       "\n",
       "    .dataframe tbody tr th {\n",
       "        vertical-align: top;\n",
       "    }\n",
       "\n",
       "    .dataframe thead th {\n",
       "        text-align: right;\n",
       "    }\n",
       "</style>\n",
       "<table border=\"1\" class=\"dataframe\">\n",
       "  <thead>\n",
       "    <tr style=\"text-align: right;\">\n",
       "      <th></th>\n",
       "      <th>sky</th>\n",
       "      <th>airtemp</th>\n",
       "      <th>humidity</th>\n",
       "      <th>wind</th>\n",
       "      <th>water</th>\n",
       "      <th>forcast</th>\n",
       "      <th>enjoysport</th>\n",
       "    </tr>\n",
       "  </thead>\n",
       "  <tbody>\n",
       "    <tr>\n",
       "      <th>0</th>\n",
       "      <td>sunny</td>\n",
       "      <td>warm</td>\n",
       "      <td>normal</td>\n",
       "      <td>strong</td>\n",
       "      <td>warm</td>\n",
       "      <td>same</td>\n",
       "      <td>yes</td>\n",
       "    </tr>\n",
       "    <tr>\n",
       "      <th>1</th>\n",
       "      <td>sunny</td>\n",
       "      <td>warm</td>\n",
       "      <td>high</td>\n",
       "      <td>strong</td>\n",
       "      <td>warm</td>\n",
       "      <td>same</td>\n",
       "      <td>yes</td>\n",
       "    </tr>\n",
       "    <tr>\n",
       "      <th>2</th>\n",
       "      <td>rainy</td>\n",
       "      <td>cold</td>\n",
       "      <td>high</td>\n",
       "      <td>strong</td>\n",
       "      <td>warm</td>\n",
       "      <td>change</td>\n",
       "      <td>no</td>\n",
       "    </tr>\n",
       "    <tr>\n",
       "      <th>3</th>\n",
       "      <td>sunny</td>\n",
       "      <td>warm</td>\n",
       "      <td>high</td>\n",
       "      <td>strong</td>\n",
       "      <td>cool</td>\n",
       "      <td>change</td>\n",
       "      <td>yes</td>\n",
       "    </tr>\n",
       "  </tbody>\n",
       "</table>\n",
       "</div>"
      ],
      "text/plain": [
       "     sky airtemp humidity    wind water forcast enjoysport\n",
       "0  sunny    warm   normal  strong  warm    same        yes\n",
       "1  sunny    warm     high  strong  warm    same        yes\n",
       "2  rainy    cold     high  strong  warm  change         no\n",
       "3  sunny    warm     high  strong  cool  change        yes"
      ]
     },
     "execution_count": 2,
     "metadata": {},
     "output_type": "execute_result"
    }
   ],
   "source": [
    "data = pd.read_csv(\"enjoysport.csv\")\n",
    "data"
   ]
  },
  {
   "cell_type": "code",
   "execution_count": 3,
   "id": "490ab701",
   "metadata": {},
   "outputs": [
    {
     "name": "stdout",
     "output_type": "stream",
     "text": [
      "Instances:\n",
      "      sky airtemp humidity    wind water forcast\n",
      "0  sunny    warm   normal  strong  warm    same\n",
      "1  sunny    warm     high  strong  warm    same\n",
      "2  rainy    cold     high  strong  warm  change\n",
      "3  sunny    warm     high  strong  cool  change \n",
      "\n",
      "Target Values:\n",
      "   enjoysport\n",
      "0        yes\n",
      "1        yes\n",
      "2         no\n",
      "3        yes\n"
     ]
    }
   ],
   "source": [
    "instances = data.iloc[:, :-1]\n",
    "target_values = data.iloc[:, -1:]\n",
    "print(\"Instances:\\n\", instances, \"\\n\\nTarget Values:\\n\", target_values)"
   ]
  },
  {
   "cell_type": "code",
   "execution_count": 4,
   "id": "d6d50727",
   "metadata": {
    "scrolled": true
   },
   "outputs": [
    {
     "name": "stdout",
     "output_type": "stream",
     "text": [
      "No. of Instances: 4\n",
      "No. of Attributes: 6\n"
     ]
    }
   ],
   "source": [
    "noOfInstances, noOfAttributes = data.shape\n",
    "noOfAttributes -= 1\n",
    "\n",
    "print(\"No. of Instances:\", noOfInstances)\n",
    "print(\"No. of Attributes:\", noOfAttributes)"
   ]
  },
  {
   "cell_type": "code",
   "execution_count": 5,
   "id": "9f61f21f",
   "metadata": {},
   "outputs": [
    {
     "name": "stdout",
     "output_type": "stream",
     "text": [
      "h0: ['sunny', 'warm', 'normal', 'strong', 'warm', 'same']\n",
      "h1: ['sunny', 'warm', '?', 'strong', 'warm', 'same']\n",
      "h2: ['sunny', 'warm', '?', 'strong', 'warm', 'same']\n",
      "h3: ['sunny', 'warm', '?', 'strong', '?', '?']\n",
      "Hypothesis found by Find S: ['sunny', 'warm', '?', 'strong', '?', '?']\n"
     ]
    }
   ],
   "source": [
    "hypothesis = []\n",
    "index = -1\n",
    "for i in range(noOfInstances):\n",
    "    if target_values.iloc[i][0] == \"yes\":\n",
    "        hypothesis.extend(list(instances.loc[i]))\n",
    "        index = i\n",
    "        break\n",
    "\n",
    "if index != -1:\n",
    "    print(\"h0:\", hypothesis)\n",
    "    number = 1\n",
    "    for i in range(index + 1, noOfInstances):\n",
    "        if target_values.iloc[i][0] == \"yes\":\n",
    "            for j in range(noOfAttributes):\n",
    "                if instances.iloc[i][j] != hypothesis[j]:\n",
    "                    hypothesis[j] = \"?\"\n",
    "        print(\"h\"+str(number)+\":\", hypothesis)\n",
    "        number += 1\n",
    "    print(\"Hypothesis found by Find S:\", hypothesis)\n",
    "else:\n",
    "    print(\"As All instances are of negative result, no hypothesis can be found\")"
   ]
  }
 ],
 "metadata": {
  "kernelspec": {
   "display_name": "Python 3 (ipykernel)",
   "language": "python",
   "name": "python3"
  },
  "language_info": {
   "codemirror_mode": {
    "name": "ipython",
    "version": 3
   },
   "file_extension": ".py",
   "mimetype": "text/x-python",
   "name": "python",
   "nbconvert_exporter": "python",
   "pygments_lexer": "ipython3",
   "version": "3.10.2"
  }
 },
 "nbformat": 4,
 "nbformat_minor": 5
}
